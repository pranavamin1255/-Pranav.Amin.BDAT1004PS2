{
 "cells": [
  {
   "cell_type": "markdown",
   "id": "561afe80",
   "metadata": {
    "slideshow": {
     "slide_type": "fragment"
    }
   },
   "source": [
    "# Answer 1:"
   ]
  },
  {
   "cell_type": "code",
   "execution_count": 1,
   "id": "825ecc51",
   "metadata": {},
   "outputs": [],
   "source": [
    "a = 0 # value a is assigned with 0.\n",
    "def b(): \n",
    "    global a # a is assigned as Global variable.\n",
    "    a = c(a) # a is passed as parameter in function c.\n",
    "def c(a):\n",
    "    return a + 2"
   ]
  },
  {
   "cell_type": "code",
   "execution_count": 2,
   "id": "0c1063d4",
   "metadata": {},
   "outputs": [
    {
     "data": {
      "text/plain": [
       "6"
      ]
     },
     "execution_count": 2,
     "metadata": {},
     "output_type": "execute_result"
    }
   ],
   "source": [
    "b()# function b is called for first time\n",
    "b()# function b is called for second times\n",
    "b()# function b is called for third times\n",
    "a"
   ]
  },
  {
   "cell_type": "code",
   "execution_count": 3,
   "id": "bd4a8eda",
   "metadata": {
    "slideshow": {
     "slide_type": "notes"
    }
   },
   "outputs": [
    {
     "data": {
      "text/plain": [
       "'\"when b() is executed a is 0. then, in function b, a is assigned to the new value that is return by function c which is a+2. \\nSo when b() is executed the value would become 2. Similarly, b function is executed two more times so the value of a becomes 6. \\n'"
      ]
     },
     "execution_count": 3,
     "metadata": {},
     "output_type": "execute_result"
    }
   ],
   "source": [
    "\"\"\"\"when b() is executed a is 0. then, in function b, a is assigned to the new value that is return by function c which is a+2. \n",
    "So when b() is executed the value would become 2. Similarly, b function is executed two more times so the value of a becomes 6. \n",
    "\"\"\""
   ]
  },
  {
   "cell_type": "markdown",
   "id": "2ec513ca",
   "metadata": {},
   "source": [
    "# Answer 2:"
   ]
  },
  {
   "cell_type": "code",
   "execution_count": 4,
   "id": "4cb6847b",
   "metadata": {},
   "outputs": [],
   "source": [
    "def fileLength(filename):\n",
    "    'converts first line of file filename to an integer and prints it'\n",
    "    try:\n",
    "        infile = open(filename)\n",
    "        str1 = infile.read()\n",
    "        count = 0\n",
    "        for i in str1:\n",
    "            count = count + 1            \n",
    "        print('Total Numbers in file is:', count)\n",
    "    except IOError:\n",
    "        print('File {0} not found.'.format(filename))"
   ]
  },
  {
   "cell_type": "code",
   "execution_count": 5,
   "id": "4abbac28",
   "metadata": {},
   "outputs": [
    {
     "name": "stdout",
     "output_type": "stream",
     "text": [
      "Total Numbers in file is: 150\n"
     ]
    }
   ],
   "source": [
    "fileLength('Example.txt')"
   ]
  },
  {
   "cell_type": "code",
   "execution_count": 6,
   "id": "f1e1802e",
   "metadata": {},
   "outputs": [
    {
     "name": "stdout",
     "output_type": "stream",
     "text": [
      "File ample.txt not found.\n"
     ]
    }
   ],
   "source": [
    "fileLength('ample.txt')"
   ]
  },
  {
   "cell_type": "markdown",
   "id": "a2008e6e",
   "metadata": {},
   "source": [
    "# Answer 3:"
   ]
  },
  {
   "cell_type": "code",
   "execution_count": 7,
   "id": "f6db4daa",
   "metadata": {},
   "outputs": [],
   "source": [
    "class Marsupial:\n",
    "    def __init__(self): \n",
    "        self.lst1 = []\n",
    "    def put_in_pouch(self,name):\n",
    "        if len(self.lst1) == 0:\n",
    "            self.lst1.append(name)\n",
    "        else:\n",
    "            self.lst1.append(name)\n",
    "            \n",
    "    def pouch_contents(self):\n",
    "        print(self.lst1)"
   ]
  },
  {
   "cell_type": "code",
   "execution_count": 8,
   "id": "82cda91b",
   "metadata": {},
   "outputs": [],
   "source": [
    "m = Marsupial()#creating object for class Marsupial"
   ]
  },
  {
   "cell_type": "code",
   "execution_count": 9,
   "id": "4ad25dec",
   "metadata": {},
   "outputs": [
    {
     "name": "stdout",
     "output_type": "stream",
     "text": [
      "['doll', 'firetruck', 'kitten']\n"
     ]
    }
   ],
   "source": [
    "m.put_in_pouch('doll')\n",
    "m.put_in_pouch('firetruck')\n",
    "m.put_in_pouch('kitten')\n",
    "m.pouch_contents()"
   ]
  },
  {
   "cell_type": "code",
   "execution_count": 10,
   "id": "da12f896",
   "metadata": {},
   "outputs": [],
   "source": [
    "class Kangaroo(Marsupial):\n",
    "    def __init__(self,x,y):\n",
    "        Marsupial.__init__(self)#calling super class method.\n",
    "        self.x = 0\n",
    "        self.y = 0\n",
    "    def __str__(self):\n",
    "        return \"I am a Kangaroo Located at coordinates ({0},{1})\".format(self.x,self.y)\n",
    "        \n",
    "    def jump(self,dx,dy):\n",
    "        self.x = self.x+dx\n",
    "        self.y = self.y+dy\n",
    "        "
   ]
  },
  {
   "cell_type": "code",
   "execution_count": 11,
   "id": "39875bfc",
   "metadata": {},
   "outputs": [
    {
     "name": "stdout",
     "output_type": "stream",
     "text": [
      "I am a Kangaroo Located at coordinates (0,0)\n"
     ]
    }
   ],
   "source": [
    "k = Kangaroo(0,0)\n",
    "print(k)"
   ]
  },
  {
   "cell_type": "code",
   "execution_count": 12,
   "id": "02520e4e",
   "metadata": {},
   "outputs": [
    {
     "name": "stdout",
     "output_type": "stream",
     "text": [
      "['doll', 'firetruck', 'kitten']\n"
     ]
    }
   ],
   "source": [
    "k.put_in_pouch('doll')\n",
    "k.put_in_pouch('firetruck')\n",
    "k.put_in_pouch('kitten')\n",
    "k.pouch_contents()"
   ]
  },
  {
   "cell_type": "code",
   "execution_count": 13,
   "id": "487db83d",
   "metadata": {},
   "outputs": [
    {
     "name": "stdout",
     "output_type": "stream",
     "text": [
      "I am a Kangaroo Located at coordinates (3,0)\n"
     ]
    }
   ],
   "source": [
    "k.jump(1,0)\n",
    "k.jump(1,0)\n",
    "k.jump(1,0)\n",
    "print(k)"
   ]
  },
  {
   "cell_type": "markdown",
   "id": "e59d41b7",
   "metadata": {},
   "source": [
    "# Answer 4:"
   ]
  },
  {
   "cell_type": "code",
   "execution_count": 14,
   "id": "b7d0955a",
   "metadata": {},
   "outputs": [],
   "source": [
    "def collatz(number):\n",
    "    if number == 1:\n",
    "        return print(\"1.0\")\n",
    "    else:\n",
    "        \n",
    "        if number % 2 == 0:\n",
    "            print(number)\n",
    "            number = number/2\n",
    "            \n",
    "            \n",
    "        else:\n",
    "            print(number)\n",
    "            number = number*3 + 1\n",
    "           \n",
    "            \n",
    "    collatz(number)\n",
    "            \n"
   ]
  },
  {
   "cell_type": "code",
   "execution_count": 15,
   "id": "fe579247",
   "metadata": {},
   "outputs": [
    {
     "name": "stdout",
     "output_type": "stream",
     "text": [
      "3\n",
      "10\n",
      "5.0\n",
      "16.0\n",
      "8.0\n",
      "4.0\n",
      "2.0\n",
      "1.0\n"
     ]
    }
   ],
   "source": [
    "collatz(3)"
   ]
  },
  {
   "cell_type": "code",
   "execution_count": 16,
   "id": "af04dfb4",
   "metadata": {},
   "outputs": [
    {
     "name": "stdout",
     "output_type": "stream",
     "text": [
      "1.0\n"
     ]
    }
   ],
   "source": [
    "collatz(1)"
   ]
  },
  {
   "cell_type": "markdown",
   "id": "cf54867d",
   "metadata": {},
   "source": [
    "# Answer 5:"
   ]
  },
  {
   "cell_type": "code",
   "execution_count": 17,
   "id": "b9651909",
   "metadata": {},
   "outputs": [],
   "source": [
    "def binary(number):\n",
    "    if number < 0:\n",
    "        return print('Finding Binary of negative value is not possible.')\n",
    "    binarydata = str(number%2)\n",
    "    return binary(number // 2) + binarydata if number > 1 else binarydata"
   ]
  },
  {
   "cell_type": "code",
   "execution_count": 18,
   "id": "5aca3429",
   "metadata": {},
   "outputs": [
    {
     "data": {
      "text/plain": [
       "'0'"
      ]
     },
     "execution_count": 18,
     "metadata": {},
     "output_type": "execute_result"
    }
   ],
   "source": [
    "binary(0)"
   ]
  },
  {
   "cell_type": "code",
   "execution_count": 19,
   "id": "d20d3bf7",
   "metadata": {},
   "outputs": [
    {
     "data": {
      "text/plain": [
       "'1'"
      ]
     },
     "execution_count": 19,
     "metadata": {},
     "output_type": "execute_result"
    }
   ],
   "source": [
    "binary(1)"
   ]
  },
  {
   "cell_type": "code",
   "execution_count": 20,
   "id": "d82087f3",
   "metadata": {},
   "outputs": [
    {
     "data": {
      "text/plain": [
       "'11'"
      ]
     },
     "execution_count": 20,
     "metadata": {},
     "output_type": "execute_result"
    }
   ],
   "source": [
    "binary(3)"
   ]
  },
  {
   "cell_type": "code",
   "execution_count": 21,
   "id": "3053c84c",
   "metadata": {},
   "outputs": [
    {
     "data": {
      "text/plain": [
       "'1001'"
      ]
     },
     "execution_count": 21,
     "metadata": {},
     "output_type": "execute_result"
    }
   ],
   "source": [
    "binary(9)"
   ]
  },
  {
   "cell_type": "markdown",
   "id": "d3c88433",
   "metadata": {},
   "source": [
    "# Answer 6:"
   ]
  },
  {
   "cell_type": "code",
   "execution_count": 22,
   "id": "f2c66ed5",
   "metadata": {},
   "outputs": [],
   "source": [
    "from html.parser import HTMLParser\n",
    "class HeadingParser(HTMLParser):\n",
    "\n",
    "    inHeading1 = False\n",
    "    inHeading2 = False\n",
    "    inHeading3 = False\n",
    "    inHeading4 = False\n",
    "    inHeading5 = False\n",
    "    inHeading6 = False\n",
    "    def handle_starttag(self, tag, attrs):\n",
    "        if tag == \"h1\":\n",
    "            self.inHeading1 = True\n",
    "        if tag == \"h2\":\n",
    "            self.inHeading2 = True\n",
    "        if tag == \"h3\":\n",
    "            self.inHeading3 = True\n",
    "        if tag == \"h4\":\n",
    "            self.inHeading4 = True\n",
    "        if tag == \"h5\":\n",
    "            self.inHeading5 = True\n",
    "        if tag == \"h6\":\n",
    "            self.inHeading6 = True\n",
    "    def handle_data(self, data):\n",
    "        if self.inHeading1:\n",
    "            print(data)\n",
    "        if self.inHeading2:\n",
    "            print(\"\\t\"+data)\n",
    "        if self.inHeading3:\n",
    "            print(\"\\t\\t\"+data)\n",
    "        if self.inHeading4:\n",
    "            print(\"\\t\\t\\t\"+data)\n",
    "        if self.inHeading5:\n",
    "            print(\"\\t\\t\\t\\t\"+data)\n",
    "        if self.inHeading6:\n",
    "            print(\"\\t\\t\\t\\t\\t\"+data)\n",
    "    def handle_endtag(self, tag):\n",
    "        if tag ==\"h1\":\n",
    "            self.inHeading1 = False\n",
    "        if tag ==\"h2\":\n",
    "            self.inHeading2 = False\n",
    "        if tag ==\"h3\":\n",
    "            self.inHeading3 = False\n",
    "        if tag ==\"h4\":\n",
    "            self.inHeading4 = False\n",
    "        if tag ==\"h5\":\n",
    "            self.inHeading5 = False\n",
    "        if tag ==\"h6\":\n",
    "            self.inHeading6 = False\n",
    "    "
   ]
  },
  {
   "cell_type": "code",
   "execution_count": 23,
   "id": "370d6b0b",
   "metadata": {},
   "outputs": [
    {
     "name": "stdout",
     "output_type": "stream",
     "text": [
      "W3C Mission\n",
      "\tPrinciples\n"
     ]
    }
   ],
   "source": [
    "infile = open('w3c.html') \n",
    "content = infile.read() \n",
    "infile.close() \n",
    "hp = HeadingParser() \n",
    "hp.feed(content) \n"
   ]
  },
  {
   "cell_type": "markdown",
   "id": "d223a222",
   "metadata": {},
   "source": [
    "# Answer 7:"
   ]
  },
  {
   "cell_type": "code",
   "execution_count": null,
   "id": "9c248d25",
   "metadata": {},
   "outputs": [],
   "source": []
  },
  {
   "cell_type": "markdown",
   "id": "bb793a3d",
   "metadata": {},
   "source": [
    "# Answer 8:"
   ]
  },
  {
   "cell_type": "markdown",
   "id": "a7904096",
   "metadata": {
    "slideshow": {
     "slide_type": "slide"
    }
   },
   "source": [
    "# Answer a:"
   ]
  },
  {
   "cell_type": "code",
   "execution_count": null,
   "id": "20e5bef9",
   "metadata": {},
   "outputs": [],
   "source": [
    "SELECT Temperature from Table1"
   ]
  },
  {
   "cell_type": "markdown",
   "id": "c4378fa3",
   "metadata": {},
   "source": [
    "# Answer b:"
   ]
  },
  {
   "cell_type": "code",
   "execution_count": null,
   "id": "aadc435a",
   "metadata": {},
   "outputs": [],
   "source": [
    "SELECT DISTINCT City from Table1"
   ]
  },
  {
   "cell_type": "markdown",
   "id": "8f91a796",
   "metadata": {},
   "source": [
    "# Answer c:"
   ]
  },
  {
   "cell_type": "code",
   "execution_count": null,
   "id": "e0988295",
   "metadata": {},
   "outputs": [],
   "source": [
    "SELECT * FROM Table1\n",
    "WHERE Country = 'India'"
   ]
  },
  {
   "cell_type": "markdown",
   "id": "0896634b",
   "metadata": {},
   "source": [
    "# Answer d:"
   ]
  },
  {
   "cell_type": "code",
   "execution_count": null,
   "id": "7b62f8e8",
   "metadata": {},
   "outputs": [],
   "source": [
    "SELECT * FROM Table1\n",
    "WHERE Season = 'Fall'"
   ]
  },
  {
   "cell_type": "markdown",
   "id": "18b015b3",
   "metadata": {},
   "source": [
    "# Answer e:"
   ]
  },
  {
   "cell_type": "code",
   "execution_count": null,
   "id": "1163859a",
   "metadata": {},
   "outputs": [],
   "source": [
    "SELECT City, Country, Season FROM Table1\n",
    "WHERE BETWEEN 200 AND 400"
   ]
  },
  {
   "cell_type": "markdown",
   "id": "aa75830b",
   "metadata": {},
   "source": [
    "# Answer f:"
   ]
  },
  {
   "cell_type": "code",
   "execution_count": null,
   "id": "d5e1d879",
   "metadata": {},
   "outputs": [],
   "source": [
    "SELECT City, Country FROM Table1\n",
    "WHERE Season = 'Fall' and Avg(Temperature)>20\n",
    "ORDER BY Temperature;"
   ]
  },
  {
   "cell_type": "markdown",
   "id": "d20532e5",
   "metadata": {},
   "source": [
    "# Answer g:"
   ]
  },
  {
   "cell_type": "code",
   "execution_count": null,
   "id": "38650d14",
   "metadata": {},
   "outputs": [],
   "source": [
    "SELECT SUM(Rainfall)\n",
    "FROM Table1\n",
    "WHERE City = 'Cairo'; "
   ]
  },
  {
   "cell_type": "markdown",
   "id": "eff3e8fb",
   "metadata": {},
   "source": [
    "# Answer h:"
   ]
  },
  {
   "cell_type": "code",
   "execution_count": null,
   "id": "691b82cd",
   "metadata": {},
   "outputs": [],
   "source": [
    "SELECT Sum(Rainfall),Season\n",
    "FROM Table1\n",
    "GROUP BY Season;"
   ]
  },
  {
   "cell_type": "markdown",
   "id": "95f1580d",
   "metadata": {},
   "source": [
    "# Answer 9:"
   ]
  },
  {
   "cell_type": "code",
   "execution_count": 24,
   "id": "2adc2ed1",
   "metadata": {},
   "outputs": [],
   "source": [
    "words = ['The','quick', 'brown','fox','jumps','over','the','lazy','dog']"
   ]
  },
  {
   "cell_type": "code",
   "execution_count": 25,
   "id": "d167c697",
   "metadata": {},
   "outputs": [],
   "source": [
    "str1 =  ','.join(words)"
   ]
  },
  {
   "cell_type": "code",
   "execution_count": 26,
   "id": "767628fe",
   "metadata": {},
   "outputs": [
    {
     "data": {
      "text/plain": [
       "'The,quick,brown,fox,jumps,over,the,lazy,dog'"
      ]
     },
     "execution_count": 26,
     "metadata": {},
     "output_type": "execute_result"
    }
   ],
   "source": [
    "str1"
   ]
  },
  {
   "cell_type": "code",
   "execution_count": 27,
   "id": "bdae9e05",
   "metadata": {},
   "outputs": [],
   "source": [
    "str2 = str1.upper()\n",
    "str3 = str1.lower()"
   ]
  },
  {
   "cell_type": "code",
   "execution_count": 28,
   "id": "4decbf85",
   "metadata": {},
   "outputs": [],
   "source": [
    "wordsupper = str2.split(',')\n",
    "wordslower = str3.split(',')"
   ]
  },
  {
   "cell_type": "code",
   "execution_count": 29,
   "id": "15fcc836",
   "metadata": {},
   "outputs": [
    {
     "data": {
      "text/plain": [
       "['THE', 'QUICK', 'BROWN', 'FOX', 'JUMPS', 'OVER', 'THE', 'LAZY', 'DOG']"
      ]
     },
     "execution_count": 29,
     "metadata": {},
     "output_type": "execute_result"
    }
   ],
   "source": [
    "wordsupper"
   ]
  },
  {
   "cell_type": "code",
   "execution_count": 30,
   "id": "d0538b63",
   "metadata": {},
   "outputs": [
    {
     "data": {
      "text/plain": [
       "['the', 'quick', 'brown', 'fox', 'jumps', 'over', 'the', 'lazy', 'dog']"
      ]
     },
     "execution_count": 30,
     "metadata": {},
     "output_type": "execute_result"
    }
   ],
   "source": [
    "wordslower"
   ]
  },
  {
   "cell_type": "code",
   "execution_count": 31,
   "id": "095caaa6",
   "metadata": {},
   "outputs": [],
   "source": [
    "wordslength=[]\n",
    "for i in words:\n",
    "    wordslength.append(len(i))"
   ]
  },
  {
   "cell_type": "code",
   "execution_count": 32,
   "id": "7cb647a8",
   "metadata": {},
   "outputs": [
    {
     "data": {
      "text/plain": [
       "[3, 5, 5, 3, 5, 4, 3, 4, 3]"
      ]
     },
     "execution_count": 32,
     "metadata": {},
     "output_type": "execute_result"
    }
   ],
   "source": [
    "wordslength"
   ]
  },
  {
   "cell_type": "code",
   "execution_count": 33,
   "id": "c599f566",
   "metadata": {},
   "outputs": [],
   "source": [
    "alldetails = []\n",
    "for i in range(len(words)):\n",
    "    alldetails.append([wordsupper[i],wordslower[i],wordslength[i]])\n",
    "            "
   ]
  },
  {
   "cell_type": "code",
   "execution_count": 34,
   "id": "3d5cf675",
   "metadata": {},
   "outputs": [
    {
     "data": {
      "text/plain": [
       "[['THE', 'the', 3],\n",
       " ['QUICK', 'quick', 5],\n",
       " ['BROWN', 'brown', 5],\n",
       " ['FOX', 'fox', 3],\n",
       " ['JUMPS', 'jumps', 5],\n",
       " ['OVER', 'over', 4],\n",
       " ['THE', 'the', 3],\n",
       " ['LAZY', 'lazy', 4],\n",
       " ['DOG', 'dog', 3]]"
      ]
     },
     "execution_count": 34,
     "metadata": {},
     "output_type": "execute_result"
    }
   ],
   "source": [
    "alldetails"
   ]
  },
  {
   "cell_type": "code",
   "execution_count": 35,
   "id": "6fcd6f30",
   "metadata": {},
   "outputs": [],
   "source": [
    "ls4len = []\n",
    "for i in words:\n",
    "    if len(i)>4:\n",
    "        ls4len.append(i)"
   ]
  },
  {
   "cell_type": "code",
   "execution_count": 36,
   "id": "4358d4a4",
   "metadata": {},
   "outputs": [
    {
     "data": {
      "text/plain": [
       "['quick', 'brown', 'jumps']"
      ]
     },
     "execution_count": 36,
     "metadata": {},
     "output_type": "execute_result"
    }
   ],
   "source": [
    "ls4len"
   ]
  }
 ],
 "metadata": {
  "celltoolbar": "Slideshow",
  "kernelspec": {
   "display_name": "Python 3",
   "language": "python",
   "name": "python3"
  },
  "language_info": {
   "codemirror_mode": {
    "name": "ipython",
    "version": 3
   },
   "file_extension": ".py",
   "mimetype": "text/x-python",
   "name": "python",
   "nbconvert_exporter": "python",
   "pygments_lexer": "ipython3",
   "version": "3.8.8"
  }
 },
 "nbformat": 4,
 "nbformat_minor": 5
}
